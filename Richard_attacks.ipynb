{
  "cells": [
    {
      "cell_type": "markdown",
      "metadata": {
        "id": "rhvgVjWiZo5V"
      },
      "source": [
        "# Reconstruction exmaple"
      ]
    },
    {
      "cell_type": "markdown",
      "metadata": {
        "id": "ehq0h_xwZo5X"
      },
      "source": [
        "## Import the relevant libraries"
      ]
    },
    {
      "cell_type": "code",
      "source": [
        "pip install cirq"
      ],
      "metadata": {
        "colab": {
          "base_uri": "https://localhost:8080/"
        },
        "id": "yfHrt71kZu3G",
        "outputId": "8c2356b8-9394-4d77-eefd-06d6f4cdf2b7"
      },
      "execution_count": 2,
      "outputs": [
        {
          "output_type": "stream",
          "name": "stdout",
          "text": [
            "Collecting cirq\n",
            "  Downloading cirq-1.3.0-py3-none-any.whl (8.1 kB)\n",
            "Collecting cirq-aqt==1.3.0 (from cirq)\n",
            "  Downloading cirq_aqt-1.3.0-py3-none-any.whl (27 kB)\n",
            "Collecting cirq-core==1.3.0 (from cirq)\n",
            "  Downloading cirq_core-1.3.0-py3-none-any.whl (1.8 MB)\n",
            "\u001b[2K     \u001b[90m━━━━━━━━━━━━━━━━━━━━━━━━━━━━━━━━━━━━━━━━\u001b[0m \u001b[32m1.8/1.8 MB\u001b[0m \u001b[31m24.9 MB/s\u001b[0m eta \u001b[36m0:00:00\u001b[0m\n",
            "\u001b[?25hCollecting cirq-ft==1.3.0 (from cirq)\n",
            "  Downloading cirq_ft-1.3.0-py3-none-any.whl (143 kB)\n",
            "\u001b[2K     \u001b[90m━━━━━━━━━━━━━━━━━━━━━━━━━━━━━━━━━━━━━━━━\u001b[0m \u001b[32m143.1/143.1 kB\u001b[0m \u001b[31m17.3 MB/s\u001b[0m eta \u001b[36m0:00:00\u001b[0m\n",
            "\u001b[?25hCollecting cirq-google==1.3.0 (from cirq)\n",
            "  Downloading cirq_google-1.3.0-py3-none-any.whl (598 kB)\n",
            "\u001b[2K     \u001b[90m━━━━━━━━━━━━━━━━━━━━━━━━━━━━━━━━━━━━━━━━\u001b[0m \u001b[32m598.8/598.8 kB\u001b[0m \u001b[31m39.0 MB/s\u001b[0m eta \u001b[36m0:00:00\u001b[0m\n",
            "\u001b[?25hCollecting cirq-ionq==1.3.0 (from cirq)\n",
            "  Downloading cirq_ionq-1.3.0-py3-none-any.whl (60 kB)\n",
            "\u001b[2K     \u001b[90m━━━━━━━━━━━━━━━━━━━━━━━━━━━━━━━━━━━━━━━━\u001b[0m \u001b[32m60.9/60.9 kB\u001b[0m \u001b[31m6.0 MB/s\u001b[0m eta \u001b[36m0:00:00\u001b[0m\n",
            "\u001b[?25hCollecting cirq-pasqal==1.3.0 (from cirq)\n",
            "  Downloading cirq_pasqal-1.3.0-py3-none-any.whl (31 kB)\n",
            "Collecting cirq-rigetti==1.3.0 (from cirq)\n",
            "  Downloading cirq_rigetti-1.3.0-py3-none-any.whl (66 kB)\n",
            "\u001b[2K     \u001b[90m━━━━━━━━━━━━━━━━━━━━━━━━━━━━━━━━━━━━━━━━\u001b[0m \u001b[32m66.2/66.2 kB\u001b[0m \u001b[31m7.9 MB/s\u001b[0m eta \u001b[36m0:00:00\u001b[0m\n",
            "\u001b[?25hCollecting cirq-web==1.3.0 (from cirq)\n",
            "  Downloading cirq_web-1.3.0-py3-none-any.whl (596 kB)\n",
            "\u001b[2K     \u001b[90m━━━━━━━━━━━━━━━━━━━━━━━━━━━━━━━━━━━━━━━━\u001b[0m \u001b[32m596.5/596.5 kB\u001b[0m \u001b[31m34.2 MB/s\u001b[0m eta \u001b[36m0:00:00\u001b[0m\n",
            "\u001b[?25hRequirement already satisfied: requests~=2.18 in /usr/local/lib/python3.10/dist-packages (from cirq-aqt==1.3.0->cirq) (2.31.0)\n",
            "Collecting duet~=0.2.8 (from cirq-core==1.3.0->cirq)\n",
            "  Downloading duet-0.2.9-py3-none-any.whl (29 kB)\n",
            "Requirement already satisfied: matplotlib~=3.0 in /usr/local/lib/python3.10/dist-packages (from cirq-core==1.3.0->cirq) (3.7.1)\n",
            "Requirement already satisfied: networkx>=2.4 in /usr/local/lib/python3.10/dist-packages (from cirq-core==1.3.0->cirq) (3.2.1)\n",
            "Requirement already satisfied: numpy~=1.16 in /usr/local/lib/python3.10/dist-packages (from cirq-core==1.3.0->cirq) (1.23.5)\n",
            "Requirement already satisfied: pandas in /usr/local/lib/python3.10/dist-packages (from cirq-core==1.3.0->cirq) (1.5.3)\n",
            "Requirement already satisfied: sortedcontainers~=2.0 in /usr/local/lib/python3.10/dist-packages (from cirq-core==1.3.0->cirq) (2.4.0)\n",
            "Requirement already satisfied: scipy in /usr/local/lib/python3.10/dist-packages (from cirq-core==1.3.0->cirq) (1.11.4)\n",
            "Requirement already satisfied: sympy in /usr/local/lib/python3.10/dist-packages (from cirq-core==1.3.0->cirq) (1.12)\n",
            "Requirement already satisfied: typing-extensions>=4.2 in /usr/local/lib/python3.10/dist-packages (from cirq-core==1.3.0->cirq) (4.5.0)\n",
            "Requirement already satisfied: tqdm in /usr/local/lib/python3.10/dist-packages (from cirq-core==1.3.0->cirq) (4.66.1)\n",
            "Requirement already satisfied: attrs in /usr/local/lib/python3.10/dist-packages (from cirq-ft==1.3.0->cirq) (23.2.0)\n",
            "Requirement already satisfied: cachetools>=5.3 in /usr/local/lib/python3.10/dist-packages (from cirq-ft==1.3.0->cirq) (5.3.2)\n",
            "Requirement already satisfied: ipywidgets in /usr/local/lib/python3.10/dist-packages (from cirq-ft==1.3.0->cirq) (7.7.1)\n",
            "Requirement already satisfied: nbconvert in /usr/local/lib/python3.10/dist-packages (from cirq-ft==1.3.0->cirq) (6.5.4)\n",
            "Requirement already satisfied: nbformat in /usr/local/lib/python3.10/dist-packages (from cirq-ft==1.3.0->cirq) (5.9.2)\n",
            "Requirement already satisfied: google-api-core[grpc]>=1.14.0 in /usr/local/lib/python3.10/dist-packages (from cirq-google==1.3.0->cirq) (2.11.1)\n",
            "Requirement already satisfied: proto-plus>=1.20.0 in /usr/local/lib/python3.10/dist-packages (from cirq-google==1.3.0->cirq) (1.23.0)\n",
            "Requirement already satisfied: protobuf>=3.15.0 in /usr/local/lib/python3.10/dist-packages (from cirq-google==1.3.0->cirq) (3.20.3)\n",
            "Collecting pyquil<4.0.0,>=3.2.0 (from cirq-rigetti==1.3.0->cirq)\n",
            "  Downloading pyquil-3.5.4-py3-none-any.whl (223 kB)\n",
            "\u001b[2K     \u001b[90m━━━━━━━━━━━━━━━━━━━━━━━━━━━━━━━━━━━━━━━━\u001b[0m \u001b[32m223.8/223.8 kB\u001b[0m \u001b[31m19.6 MB/s\u001b[0m eta \u001b[36m0:00:00\u001b[0m\n",
            "\u001b[?25hRequirement already satisfied: googleapis-common-protos<2.0.dev0,>=1.56.2 in /usr/local/lib/python3.10/dist-packages (from google-api-core[grpc]>=1.14.0->cirq-google==1.3.0->cirq) (1.62.0)\n",
            "Requirement already satisfied: google-auth<3.0.dev0,>=2.14.1 in /usr/local/lib/python3.10/dist-packages (from google-api-core[grpc]>=1.14.0->cirq-google==1.3.0->cirq) (2.17.3)\n",
            "Requirement already satisfied: grpcio<2.0dev,>=1.33.2 in /usr/local/lib/python3.10/dist-packages (from google-api-core[grpc]>=1.14.0->cirq-google==1.3.0->cirq) (1.60.0)\n",
            "Requirement already satisfied: grpcio-status<2.0.dev0,>=1.33.2 in /usr/local/lib/python3.10/dist-packages (from google-api-core[grpc]>=1.14.0->cirq-google==1.3.0->cirq) (1.48.2)\n",
            "Requirement already satisfied: contourpy>=1.0.1 in /usr/local/lib/python3.10/dist-packages (from matplotlib~=3.0->cirq-core==1.3.0->cirq) (1.2.0)\n",
            "Requirement already satisfied: cycler>=0.10 in /usr/local/lib/python3.10/dist-packages (from matplotlib~=3.0->cirq-core==1.3.0->cirq) (0.12.1)\n",
            "Requirement already satisfied: fonttools>=4.22.0 in /usr/local/lib/python3.10/dist-packages (from matplotlib~=3.0->cirq-core==1.3.0->cirq) (4.47.2)\n",
            "Requirement already satisfied: kiwisolver>=1.0.1 in /usr/local/lib/python3.10/dist-packages (from matplotlib~=3.0->cirq-core==1.3.0->cirq) (1.4.5)\n",
            "Requirement already satisfied: packaging>=20.0 in /usr/local/lib/python3.10/dist-packages (from matplotlib~=3.0->cirq-core==1.3.0->cirq) (23.2)\n",
            "Requirement already satisfied: pillow>=6.2.0 in /usr/local/lib/python3.10/dist-packages (from matplotlib~=3.0->cirq-core==1.3.0->cirq) (9.4.0)\n",
            "Requirement already satisfied: pyparsing>=2.3.1 in /usr/local/lib/python3.10/dist-packages (from matplotlib~=3.0->cirq-core==1.3.0->cirq) (3.1.1)\n",
            "Requirement already satisfied: python-dateutil>=2.7 in /usr/local/lib/python3.10/dist-packages (from matplotlib~=3.0->cirq-core==1.3.0->cirq) (2.8.2)\n",
            "Collecting deprecated<2.0.0,>=1.2.13 (from pyquil<4.0.0,>=3.2.0->cirq-rigetti==1.3.0->cirq)\n",
            "  Downloading Deprecated-1.2.14-py2.py3-none-any.whl (9.6 kB)\n",
            "Collecting lark<0.12.0,>=0.11.1 (from pyquil<4.0.0,>=3.2.0->cirq-rigetti==1.3.0->cirq)\n",
            "  Downloading lark-0.11.3.tar.gz (229 kB)\n",
            "\u001b[2K     \u001b[90m━━━━━━━━━━━━━━━━━━━━━━━━━━━━━━━━━━━━━━━━\u001b[0m \u001b[32m229.9/229.9 kB\u001b[0m \u001b[31m22.8 MB/s\u001b[0m eta \u001b[36m0:00:00\u001b[0m\n",
            "\u001b[?25h  Preparing metadata (setup.py) ... \u001b[?25l\u001b[?25hdone\n",
            "Collecting qcs-api-client<0.22.0,>=0.21.0 (from pyquil<4.0.0,>=3.2.0->cirq-rigetti==1.3.0->cirq)\n",
            "  Downloading qcs_api_client-0.21.6-py3-none-any.whl (151 kB)\n",
            "\u001b[2K     \u001b[90m━━━━━━━━━━━━━━━━━━━━━━━━━━━━━━━━━━━━━━━━\u001b[0m \u001b[32m151.7/151.7 kB\u001b[0m \u001b[31m13.4 MB/s\u001b[0m eta \u001b[36m0:00:00\u001b[0m\n",
            "\u001b[?25hCollecting rpcq<4.0.0,>=3.10.0 (from pyquil<4.0.0,>=3.2.0->cirq-rigetti==1.3.0->cirq)\n",
            "  Downloading rpcq-3.11.0.tar.gz (45 kB)\n",
            "\u001b[2K     \u001b[90m━━━━━━━━━━━━━━━━━━━━━━━━━━━━━━━━━━━━━━━━\u001b[0m \u001b[32m45.6/45.6 kB\u001b[0m \u001b[31m4.4 MB/s\u001b[0m eta \u001b[36m0:00:00\u001b[0m\n",
            "\u001b[?25h  Preparing metadata (setup.py) ... \u001b[?25l\u001b[?25hdone\n",
            "Requirement already satisfied: tenacity<9.0.0,>=8.2.2 in /usr/local/lib/python3.10/dist-packages (from pyquil<4.0.0,>=3.2.0->cirq-rigetti==1.3.0->cirq) (8.2.3)\n",
            "Collecting types-deprecated<2.0.0.0,>=1.2.9.2 (from pyquil<4.0.0,>=3.2.0->cirq-rigetti==1.3.0->cirq)\n",
            "  Downloading types_Deprecated-1.2.9.20240106-py3-none-any.whl (3.5 kB)\n",
            "Collecting types-python-dateutil<3.0.0,>=2.8.19 (from pyquil<4.0.0,>=3.2.0->cirq-rigetti==1.3.0->cirq)\n",
            "  Downloading types_python_dateutil-2.8.19.20240106-py3-none-any.whl (9.7 kB)\n",
            "Collecting types-retry<0.10.0,>=0.9.9 (from pyquil<4.0.0,>=3.2.0->cirq-rigetti==1.3.0->cirq)\n",
            "  Downloading types_retry-0.9.9.4-py3-none-any.whl (2.5 kB)\n",
            "Requirement already satisfied: charset-normalizer<4,>=2 in /usr/local/lib/python3.10/dist-packages (from requests~=2.18->cirq-aqt==1.3.0->cirq) (3.3.2)\n",
            "Requirement already satisfied: idna<4,>=2.5 in /usr/local/lib/python3.10/dist-packages (from requests~=2.18->cirq-aqt==1.3.0->cirq) (3.6)\n",
            "Requirement already satisfied: urllib3<3,>=1.21.1 in /usr/local/lib/python3.10/dist-packages (from requests~=2.18->cirq-aqt==1.3.0->cirq) (2.0.7)\n",
            "Requirement already satisfied: certifi>=2017.4.17 in /usr/local/lib/python3.10/dist-packages (from requests~=2.18->cirq-aqt==1.3.0->cirq) (2023.11.17)\n",
            "Requirement already satisfied: ipykernel>=4.5.1 in /usr/local/lib/python3.10/dist-packages (from ipywidgets->cirq-ft==1.3.0->cirq) (5.5.6)\n",
            "Requirement already satisfied: ipython-genutils~=0.2.0 in /usr/local/lib/python3.10/dist-packages (from ipywidgets->cirq-ft==1.3.0->cirq) (0.2.0)\n",
            "Requirement already satisfied: traitlets>=4.3.1 in /usr/local/lib/python3.10/dist-packages (from ipywidgets->cirq-ft==1.3.0->cirq) (5.7.1)\n",
            "Requirement already satisfied: widgetsnbextension~=3.6.0 in /usr/local/lib/python3.10/dist-packages (from ipywidgets->cirq-ft==1.3.0->cirq) (3.6.6)\n",
            "Requirement already satisfied: ipython>=4.0.0 in /usr/local/lib/python3.10/dist-packages (from ipywidgets->cirq-ft==1.3.0->cirq) (7.34.0)\n",
            "Requirement already satisfied: jupyterlab-widgets>=1.0.0 in /usr/local/lib/python3.10/dist-packages (from ipywidgets->cirq-ft==1.3.0->cirq) (3.0.9)\n",
            "Requirement already satisfied: lxml in /usr/local/lib/python3.10/dist-packages (from nbconvert->cirq-ft==1.3.0->cirq) (4.9.4)\n",
            "Requirement already satisfied: beautifulsoup4 in /usr/local/lib/python3.10/dist-packages (from nbconvert->cirq-ft==1.3.0->cirq) (4.12.3)\n",
            "Requirement already satisfied: bleach in /usr/local/lib/python3.10/dist-packages (from nbconvert->cirq-ft==1.3.0->cirq) (6.1.0)\n",
            "Requirement already satisfied: defusedxml in /usr/local/lib/python3.10/dist-packages (from nbconvert->cirq-ft==1.3.0->cirq) (0.7.1)\n",
            "Requirement already satisfied: entrypoints>=0.2.2 in /usr/local/lib/python3.10/dist-packages (from nbconvert->cirq-ft==1.3.0->cirq) (0.4)\n",
            "Requirement already satisfied: jinja2>=3.0 in /usr/local/lib/python3.10/dist-packages (from nbconvert->cirq-ft==1.3.0->cirq) (3.1.3)\n",
            "Requirement already satisfied: jupyter-core>=4.7 in /usr/local/lib/python3.10/dist-packages (from nbconvert->cirq-ft==1.3.0->cirq) (5.7.1)\n",
            "Requirement already satisfied: jupyterlab-pygments in /usr/local/lib/python3.10/dist-packages (from nbconvert->cirq-ft==1.3.0->cirq) (0.3.0)\n",
            "Requirement already satisfied: MarkupSafe>=2.0 in /usr/local/lib/python3.10/dist-packages (from nbconvert->cirq-ft==1.3.0->cirq) (2.1.4)\n",
            "Requirement already satisfied: mistune<2,>=0.8.1 in /usr/local/lib/python3.10/dist-packages (from nbconvert->cirq-ft==1.3.0->cirq) (0.8.4)\n",
            "Requirement already satisfied: nbclient>=0.5.0 in /usr/local/lib/python3.10/dist-packages (from nbconvert->cirq-ft==1.3.0->cirq) (0.9.0)\n",
            "Requirement already satisfied: pandocfilters>=1.4.1 in /usr/local/lib/python3.10/dist-packages (from nbconvert->cirq-ft==1.3.0->cirq) (1.5.1)\n",
            "Requirement already satisfied: pygments>=2.4.1 in /usr/local/lib/python3.10/dist-packages (from nbconvert->cirq-ft==1.3.0->cirq) (2.16.1)\n",
            "Requirement already satisfied: tinycss2 in /usr/local/lib/python3.10/dist-packages (from nbconvert->cirq-ft==1.3.0->cirq) (1.2.1)\n",
            "Requirement already satisfied: fastjsonschema in /usr/local/lib/python3.10/dist-packages (from nbformat->cirq-ft==1.3.0->cirq) (2.19.1)\n",
            "Requirement already satisfied: jsonschema>=2.6 in /usr/local/lib/python3.10/dist-packages (from nbformat->cirq-ft==1.3.0->cirq) (4.19.2)\n",
            "Requirement already satisfied: pytz>=2020.1 in /usr/local/lib/python3.10/dist-packages (from pandas->cirq-core==1.3.0->cirq) (2023.4)\n",
            "Requirement already satisfied: mpmath>=0.19 in /usr/local/lib/python3.10/dist-packages (from sympy->cirq-core==1.3.0->cirq) (1.3.0)\n",
            "Requirement already satisfied: wrapt<2,>=1.10 in /usr/local/lib/python3.10/dist-packages (from deprecated<2.0.0,>=1.2.13->pyquil<4.0.0,>=3.2.0->cirq-rigetti==1.3.0->cirq) (1.14.1)\n",
            "Requirement already satisfied: pyasn1-modules>=0.2.1 in /usr/local/lib/python3.10/dist-packages (from google-auth<3.0.dev0,>=2.14.1->google-api-core[grpc]>=1.14.0->cirq-google==1.3.0->cirq) (0.3.0)\n",
            "Requirement already satisfied: six>=1.9.0 in /usr/local/lib/python3.10/dist-packages (from google-auth<3.0.dev0,>=2.14.1->google-api-core[grpc]>=1.14.0->cirq-google==1.3.0->cirq) (1.16.0)\n",
            "Requirement already satisfied: rsa<5,>=3.1.4 in /usr/local/lib/python3.10/dist-packages (from google-auth<3.0.dev0,>=2.14.1->google-api-core[grpc]>=1.14.0->cirq-google==1.3.0->cirq) (4.9)\n",
            "Requirement already satisfied: jupyter-client in /usr/local/lib/python3.10/dist-packages (from ipykernel>=4.5.1->ipywidgets->cirq-ft==1.3.0->cirq) (6.1.12)\n",
            "Requirement already satisfied: tornado>=4.2 in /usr/local/lib/python3.10/dist-packages (from ipykernel>=4.5.1->ipywidgets->cirq-ft==1.3.0->cirq) (6.3.2)\n",
            "Requirement already satisfied: setuptools>=18.5 in /usr/local/lib/python3.10/dist-packages (from ipython>=4.0.0->ipywidgets->cirq-ft==1.3.0->cirq) (67.7.2)\n",
            "Collecting jedi>=0.16 (from ipython>=4.0.0->ipywidgets->cirq-ft==1.3.0->cirq)\n",
            "  Downloading jedi-0.19.1-py2.py3-none-any.whl (1.6 MB)\n",
            "\u001b[2K     \u001b[90m━━━━━━━━━━━━━━━━━━━━━━━━━━━━━━━━━━━━━━━━\u001b[0m \u001b[32m1.6/1.6 MB\u001b[0m \u001b[31m65.6 MB/s\u001b[0m eta \u001b[36m0:00:00\u001b[0m\n",
            "\u001b[?25hRequirement already satisfied: decorator in /usr/local/lib/python3.10/dist-packages (from ipython>=4.0.0->ipywidgets->cirq-ft==1.3.0->cirq) (4.4.2)\n",
            "Requirement already satisfied: pickleshare in /usr/local/lib/python3.10/dist-packages (from ipython>=4.0.0->ipywidgets->cirq-ft==1.3.0->cirq) (0.7.5)\n",
            "Requirement already satisfied: prompt-toolkit!=3.0.0,!=3.0.1,<3.1.0,>=2.0.0 in /usr/local/lib/python3.10/dist-packages (from ipython>=4.0.0->ipywidgets->cirq-ft==1.3.0->cirq) (3.0.43)\n",
            "Requirement already satisfied: backcall in /usr/local/lib/python3.10/dist-packages (from ipython>=4.0.0->ipywidgets->cirq-ft==1.3.0->cirq) (0.2.0)\n",
            "Requirement already satisfied: matplotlib-inline in /usr/local/lib/python3.10/dist-packages (from ipython>=4.0.0->ipywidgets->cirq-ft==1.3.0->cirq) (0.1.6)\n",
            "Requirement already satisfied: pexpect>4.3 in /usr/local/lib/python3.10/dist-packages (from ipython>=4.0.0->ipywidgets->cirq-ft==1.3.0->cirq) (4.9.0)\n",
            "Requirement already satisfied: jsonschema-specifications>=2023.03.6 in /usr/local/lib/python3.10/dist-packages (from jsonschema>=2.6->nbformat->cirq-ft==1.3.0->cirq) (2023.12.1)\n",
            "Requirement already satisfied: referencing>=0.28.4 in /usr/local/lib/python3.10/dist-packages (from jsonschema>=2.6->nbformat->cirq-ft==1.3.0->cirq) (0.33.0)\n",
            "Requirement already satisfied: rpds-py>=0.7.1 in /usr/local/lib/python3.10/dist-packages (from jsonschema>=2.6->nbformat->cirq-ft==1.3.0->cirq) (0.17.1)\n",
            "Requirement already satisfied: platformdirs>=2.5 in /usr/local/lib/python3.10/dist-packages (from jupyter-core>=4.7->nbconvert->cirq-ft==1.3.0->cirq) (4.2.0)\n",
            "Collecting PyJWT<3.0.0,>=2.4.0 (from qcs-api-client<0.22.0,>=0.21.0->pyquil<4.0.0,>=3.2.0->cirq-rigetti==1.3.0->cirq)\n",
            "  Downloading PyJWT-2.8.0-py3-none-any.whl (22 kB)\n",
            "INFO: pip is looking at multiple versions of qcs-api-client to determine which version is compatible with other requirements. This could take a while.\n",
            "Collecting qcs-api-client<0.22.0,>=0.21.0 (from pyquil<4.0.0,>=3.2.0->cirq-rigetti==1.3.0->cirq)\n",
            "  Downloading qcs_api_client-0.21.5-py3-none-any.whl (151 kB)\n",
            "\u001b[2K     \u001b[90m━━━━━━━━━━━━━━━━━━━━━━━━━━━━━━━━━━━━━━━━\u001b[0m \u001b[32m151.7/151.7 kB\u001b[0m \u001b[31m17.2 MB/s\u001b[0m eta \u001b[36m0:00:00\u001b[0m\n",
            "\u001b[?25h  Downloading qcs_api_client-0.21.4-py3-none-any.whl (151 kB)\n",
            "\u001b[2K     \u001b[90m━━━━━━━━━━━━━━━━━━━━━━━━━━━━━━━━━━━━━━━━\u001b[0m \u001b[32m151.7/151.7 kB\u001b[0m \u001b[31m16.5 MB/s\u001b[0m eta \u001b[36m0:00:00\u001b[0m\n",
            "\u001b[?25h  Downloading qcs_api_client-0.21.3-py3-none-any.whl (147 kB)\n",
            "\u001b[2K     \u001b[90m━━━━━━━━━━━━━━━━━━━━━━━━━━━━━━━━━━━━━━━━\u001b[0m \u001b[32m147.4/147.4 kB\u001b[0m \u001b[31m12.3 MB/s\u001b[0m eta \u001b[36m0:00:00\u001b[0m\n",
            "\u001b[?25h  Downloading qcs_api_client-0.21.2-py3-none-any.whl (147 kB)\n",
            "\u001b[2K     \u001b[90m━━━━━━━━━━━━━━━━━━━━━━━━━━━━━━━━━━━━━━━━\u001b[0m \u001b[32m147.4/147.4 kB\u001b[0m \u001b[31m13.7 MB/s\u001b[0m eta \u001b[36m0:00:00\u001b[0m\n",
            "\u001b[?25h  Downloading qcs_api_client-0.21.1-py3-none-any.whl (147 kB)\n",
            "\u001b[2K     \u001b[90m━━━━━━━━━━━━━━━━━━━━━━━━━━━━━━━━━━━━━━━━\u001b[0m \u001b[32m147.4/147.4 kB\u001b[0m \u001b[31m16.3 MB/s\u001b[0m eta \u001b[36m0:00:00\u001b[0m\n",
            "\u001b[?25h  Downloading qcs_api_client-0.21.0-py3-none-any.whl (142 kB)\n",
            "\u001b[2K     \u001b[90m━━━━━━━━━━━━━━━━━━━━━━━━━━━━━━━━━━━━━━━━\u001b[0m \u001b[32m142.7/142.7 kB\u001b[0m \u001b[31m16.0 MB/s\u001b[0m eta \u001b[36m0:00:00\u001b[0m\n",
            "\u001b[?25hCollecting jsonschema>=2.6 (from nbformat->cirq-ft==1.3.0->cirq)\n",
            "  Downloading jsonschema-4.21.1-py3-none-any.whl (85 kB)\n",
            "\u001b[2K     \u001b[90m━━━━━━━━━━━━━━━━━━━━━━━━━━━━━━━━━━━━━━━━\u001b[0m \u001b[32m85.5/85.5 kB\u001b[0m \u001b[31m10.1 MB/s\u001b[0m eta \u001b[36m0:00:00\u001b[0m\n",
            "\u001b[?25hINFO: pip is looking at multiple versions of qcs-api-client to determine which version is compatible with other requirements. This could take a while.\n",
            "INFO: This is taking longer than usual. You might need to provide the dependency resolver with stricter constraints to reduce runtime. See https://pip.pypa.io/warnings/backtracking for guidance. If you want to abort this run, press Ctrl + C.\n",
            "  Downloading jsonschema-4.21.0-py3-none-any.whl (85 kB)\n",
            "\u001b[2K     \u001b[90m━━━━━━━━━━━━━━━━━━━━━━━━━━━━━━━━━━━━━━━━\u001b[0m \u001b[32m85.1/85.1 kB\u001b[0m \u001b[31m9.9 MB/s\u001b[0m eta \u001b[36m0:00:00\u001b[0m\n",
            "\u001b[?25h  Downloading jsonschema-4.20.0-py3-none-any.whl (84 kB)\n",
            "\u001b[2K     \u001b[90m━━━━━━━━━━━━━━━━━━━━━━━━━━━━━━━━━━━━━━━━\u001b[0m \u001b[32m84.7/84.7 kB\u001b[0m \u001b[31m8.5 MB/s\u001b[0m eta \u001b[36m0:00:00\u001b[0m\n",
            "\u001b[?25h  Downloading jsonschema-4.19.2-py3-none-any.whl (83 kB)\n",
            "\u001b[2K     \u001b[90m━━━━━━━━━━━━━━━━━━━━━━━━━━━━━━━━━━━━━━━━\u001b[0m \u001b[32m83.6/83.6 kB\u001b[0m \u001b[31m10.0 MB/s\u001b[0m eta \u001b[36m0:00:00\u001b[0m\n",
            "\u001b[?25h  Downloading jsonschema-4.19.1-py3-none-any.whl (83 kB)\n",
            "\u001b[2K     \u001b[90m━━━━━━━━━━━━━━━━━━━━━━━━━━━━━━━━━━━━━━━━\u001b[0m \u001b[32m83.3/83.3 kB\u001b[0m \u001b[31m10.4 MB/s\u001b[0m eta \u001b[36m0:00:00\u001b[0m\n",
            "\u001b[?25h  Downloading jsonschema-4.19.0-py3-none-any.whl (83 kB)\n",
            "\u001b[2K     \u001b[90m━━━━━━━━━━━━━━━━━━━━━━━━━━━━━━━━━━━━━━━━\u001b[0m \u001b[32m83.4/83.4 kB\u001b[0m \u001b[31m8.9 MB/s\u001b[0m eta \u001b[36m0:00:00\u001b[0m\n",
            "\u001b[?25h  Downloading jsonschema-4.18.6-py3-none-any.whl (83 kB)\n",
            "\u001b[2K     \u001b[90m━━━━━━━━━━━━━━━━━━━━━━━━━━━━━━━━━━━━━━━━\u001b[0m \u001b[32m83.2/83.2 kB\u001b[0m \u001b[31m8.7 MB/s\u001b[0m eta \u001b[36m0:00:00\u001b[0m\n",
            "\u001b[?25h  Downloading jsonschema-4.18.5-py3-none-any.whl (82 kB)\n",
            "\u001b[2K     \u001b[90m━━━━━━━━━━━━━━━━━━━━━━━━━━━━━━━━━━━━━━━━\u001b[0m \u001b[32m82.5/82.5 kB\u001b[0m \u001b[31m8.9 MB/s\u001b[0m eta \u001b[36m0:00:00\u001b[0m\n",
            "\u001b[?25h  Downloading jsonschema-4.18.4-py3-none-any.whl (80 kB)\n",
            "\u001b[2K     \u001b[90m━━━━━━━━━━━━━━━━━━━━━━━━━━━━━━━━━━━━━━━━\u001b[0m \u001b[32m81.0/81.0 kB\u001b[0m \u001b[31m7.7 MB/s\u001b[0m eta \u001b[36m0:00:00\u001b[0m\n",
            "\u001b[?25h  Downloading jsonschema-4.18.3-py3-none-any.whl (80 kB)\n",
            "\u001b[2K     \u001b[90m━━━━━━━━━━━━━━━━━━━━━━━━━━━━━━━━━━━━━━━━\u001b[0m \u001b[32m81.0/81.0 kB\u001b[0m \u001b[31m9.5 MB/s\u001b[0m eta \u001b[36m0:00:00\u001b[0m\n",
            "\u001b[?25h  Downloading jsonschema-4.18.2-py3-none-any.whl (80 kB)\n",
            "\u001b[2K     \u001b[90m━━━━━━━━━━━━━━━━━━━━━━━━━━━━━━━━━━━━━━━━\u001b[0m \u001b[32m80.8/80.8 kB\u001b[0m \u001b[31m9.5 MB/s\u001b[0m eta \u001b[36m0:00:00\u001b[0m\n",
            "\u001b[?25h  Downloading jsonschema-4.18.1-py3-none-any.whl (80 kB)\n",
            "\u001b[2K     \u001b[90m━━━━━━━━━━━━━━━━━━━━━━━━━━━━━━━━━━━━━━━━\u001b[0m \u001b[32m80.7/80.7 kB\u001b[0m \u001b[31m7.3 MB/s\u001b[0m eta \u001b[36m0:00:00\u001b[0m\n",
            "\u001b[?25h  Downloading jsonschema-4.18.0-py3-none-any.whl (81 kB)\n",
            "\u001b[2K     \u001b[90m━━━━━━━━━━━━━━━━━━━━━━━━━━━━━━━━━━━━━━━━\u001b[0m \u001b[32m81.5/81.5 kB\u001b[0m \u001b[31m8.9 MB/s\u001b[0m eta \u001b[36m0:00:00\u001b[0m\n",
            "\u001b[?25h  Downloading jsonschema-4.17.3-py3-none-any.whl (90 kB)\n",
            "\u001b[2K     \u001b[90m━━━━━━━━━━━━━━━━━━━━━━━━━━━━━━━━━━━━━━━━\u001b[0m \u001b[32m90.4/90.4 kB\u001b[0m \u001b[31m11.3 MB/s\u001b[0m eta \u001b[36m0:00:00\u001b[0m\n",
            "\u001b[?25hCollecting pyrsistent!=0.17.0,!=0.17.1,!=0.17.2,>=0.14.0 (from jsonschema>=2.6->nbformat->cirq-ft==1.3.0->cirq)\n",
            "  Downloading pyrsistent-0.20.0-cp310-cp310-manylinux_2_17_x86_64.manylinux2014_x86_64.whl (117 kB)\n",
            "\u001b[2K     \u001b[90m━━━━━━━━━━━━━━━━━━━━━━━━━━━━━━━━━━━━━━━━\u001b[0m \u001b[32m117.7/117.7 kB\u001b[0m \u001b[31m13.9 MB/s\u001b[0m eta \u001b[36m0:00:00\u001b[0m\n",
            "\u001b[?25hCollecting attrs (from cirq-ft==1.3.0->cirq)\n",
            "  Downloading attrs-21.4.0-py2.py3-none-any.whl (60 kB)\n",
            "\u001b[2K     \u001b[90m━━━━━━━━━━━━━━━━━━━━━━━━━━━━━━━━━━━━━━━━\u001b[0m \u001b[32m60.6/60.6 kB\u001b[0m \u001b[31m6.9 MB/s\u001b[0m eta \u001b[36m0:00:00\u001b[0m\n",
            "\u001b[?25hCollecting httpx<0.24.0,>=0.23.0 (from qcs-api-client<0.22.0,>=0.21.0->pyquil<4.0.0,>=3.2.0->cirq-rigetti==1.3.0->cirq)\n",
            "  Downloading httpx-0.23.3-py3-none-any.whl (71 kB)\n",
            "\u001b[2K     \u001b[90m━━━━━━━━━━━━━━━━━━━━━━━━━━━━━━━━━━━━━━━━\u001b[0m \u001b[32m71.5/71.5 kB\u001b[0m \u001b[31m7.4 MB/s\u001b[0m eta \u001b[36m0:00:00\u001b[0m\n",
            "\u001b[?25hCollecting iso8601<2.0.0,>=1.0.2 (from qcs-api-client<0.22.0,>=0.21.0->pyquil<4.0.0,>=3.2.0->cirq-rigetti==1.3.0->cirq)\n",
            "  Downloading iso8601-1.1.0-py3-none-any.whl (9.9 kB)\n",
            "Requirement already satisfied: pydantic<2.0.0,>=1.7.2 in /usr/local/lib/python3.10/dist-packages (from qcs-api-client<0.22.0,>=0.21.0->pyquil<4.0.0,>=3.2.0->cirq-rigetti==1.3.0->cirq) (1.10.14)\n",
            "Collecting retrying<2.0.0,>=1.3.3 (from qcs-api-client<0.22.0,>=0.21.0->pyquil<4.0.0,>=3.2.0->cirq-rigetti==1.3.0->cirq)\n",
            "  Downloading retrying-1.3.4-py3-none-any.whl (11 kB)\n",
            "Collecting rfc3339<7.0,>=6.2 (from qcs-api-client<0.22.0,>=0.21.0->pyquil<4.0.0,>=3.2.0->cirq-rigetti==1.3.0->cirq)\n",
            "  Downloading rfc3339-6.2-py3-none-any.whl (5.5 kB)\n",
            "Requirement already satisfied: toml<0.11.0,>=0.10.2 in /usr/local/lib/python3.10/dist-packages (from qcs-api-client<0.22.0,>=0.21.0->pyquil<4.0.0,>=3.2.0->cirq-rigetti==1.3.0->cirq) (0.10.2)\n",
            "Requirement already satisfied: msgpack<2.0,>=0.6 in /usr/local/lib/python3.10/dist-packages (from rpcq<4.0.0,>=3.10.0->pyquil<4.0.0,>=3.2.0->cirq-rigetti==1.3.0->cirq) (1.0.7)\n",
            "Collecting python-rapidjson (from rpcq<4.0.0,>=3.10.0->pyquil<4.0.0,>=3.2.0->cirq-rigetti==1.3.0->cirq)\n",
            "  Downloading python_rapidjson-1.14-cp310-cp310-manylinux_2_17_x86_64.manylinux2014_x86_64.whl (1.7 MB)\n",
            "\u001b[2K     \u001b[90m━━━━━━━━━━━━━━━━━━━━━━━━━━━━━━━━━━━━━━━━\u001b[0m \u001b[32m1.7/1.7 MB\u001b[0m \u001b[31m69.5 MB/s\u001b[0m eta \u001b[36m0:00:00\u001b[0m\n",
            "\u001b[?25hRequirement already satisfied: pyzmq>=17 in /usr/local/lib/python3.10/dist-packages (from rpcq<4.0.0,>=3.10.0->pyquil<4.0.0,>=3.2.0->cirq-rigetti==1.3.0->cirq) (23.2.1)\n",
            "Collecting ruamel.yaml (from rpcq<4.0.0,>=3.10.0->pyquil<4.0.0,>=3.2.0->cirq-rigetti==1.3.0->cirq)\n",
            "  Downloading ruamel.yaml-0.18.5-py3-none-any.whl (116 kB)\n",
            "\u001b[2K     \u001b[90m━━━━━━━━━━━━━━━━━━━━━━━━━━━━━━━━━━━━━━━━\u001b[0m \u001b[32m116.4/116.4 kB\u001b[0m \u001b[31m13.7 MB/s\u001b[0m eta \u001b[36m0:00:00\u001b[0m\n",
            "\u001b[?25hRequirement already satisfied: notebook>=4.4.1 in /usr/local/lib/python3.10/dist-packages (from widgetsnbextension~=3.6.0->ipywidgets->cirq-ft==1.3.0->cirq) (6.5.5)\n",
            "Requirement already satisfied: soupsieve>1.2 in /usr/local/lib/python3.10/dist-packages (from beautifulsoup4->nbconvert->cirq-ft==1.3.0->cirq) (2.5)\n",
            "Requirement already satisfied: webencodings in /usr/local/lib/python3.10/dist-packages (from bleach->nbconvert->cirq-ft==1.3.0->cirq) (0.5.1)\n",
            "Collecting httpcore<0.17.0,>=0.15.0 (from httpx<0.24.0,>=0.23.0->qcs-api-client<0.22.0,>=0.21.0->pyquil<4.0.0,>=3.2.0->cirq-rigetti==1.3.0->cirq)\n",
            "  Downloading httpcore-0.16.3-py3-none-any.whl (69 kB)\n",
            "\u001b[2K     \u001b[90m━━━━━━━━━━━━━━━━━━━━━━━━━━━━━━━━━━━━━━━━\u001b[0m \u001b[32m69.6/69.6 kB\u001b[0m \u001b[31m8.5 MB/s\u001b[0m eta \u001b[36m0:00:00\u001b[0m\n",
            "\u001b[?25hCollecting rfc3986[idna2008]<2,>=1.3 (from httpx<0.24.0,>=0.23.0->qcs-api-client<0.22.0,>=0.21.0->pyquil<4.0.0,>=3.2.0->cirq-rigetti==1.3.0->cirq)\n",
            "  Downloading rfc3986-1.5.0-py2.py3-none-any.whl (31 kB)\n",
            "Requirement already satisfied: sniffio in /usr/local/lib/python3.10/dist-packages (from httpx<0.24.0,>=0.23.0->qcs-api-client<0.22.0,>=0.21.0->pyquil<4.0.0,>=3.2.0->cirq-rigetti==1.3.0->cirq) (1.3.0)\n",
            "Requirement already satisfied: parso<0.9.0,>=0.8.3 in /usr/local/lib/python3.10/dist-packages (from jedi>=0.16->ipython>=4.0.0->ipywidgets->cirq-ft==1.3.0->cirq) (0.8.3)\n",
            "Requirement already satisfied: argon2-cffi in /usr/local/lib/python3.10/dist-packages (from notebook>=4.4.1->widgetsnbextension~=3.6.0->ipywidgets->cirq-ft==1.3.0->cirq) (23.1.0)\n",
            "Requirement already satisfied: nest-asyncio>=1.5 in /usr/local/lib/python3.10/dist-packages (from notebook>=4.4.1->widgetsnbextension~=3.6.0->ipywidgets->cirq-ft==1.3.0->cirq) (1.6.0)\n",
            "Requirement already satisfied: Send2Trash>=1.8.0 in /usr/local/lib/python3.10/dist-packages (from notebook>=4.4.1->widgetsnbextension~=3.6.0->ipywidgets->cirq-ft==1.3.0->cirq) (1.8.2)\n",
            "Requirement already satisfied: terminado>=0.8.3 in /usr/local/lib/python3.10/dist-packages (from notebook>=4.4.1->widgetsnbextension~=3.6.0->ipywidgets->cirq-ft==1.3.0->cirq) (0.18.0)\n",
            "Requirement already satisfied: prometheus-client in /usr/local/lib/python3.10/dist-packages (from notebook>=4.4.1->widgetsnbextension~=3.6.0->ipywidgets->cirq-ft==1.3.0->cirq) (0.19.0)\n",
            "Requirement already satisfied: nbclassic>=0.4.7 in /usr/local/lib/python3.10/dist-packages (from notebook>=4.4.1->widgetsnbextension~=3.6.0->ipywidgets->cirq-ft==1.3.0->cirq) (1.0.0)\n",
            "Requirement already satisfied: ptyprocess>=0.5 in /usr/local/lib/python3.10/dist-packages (from pexpect>4.3->ipython>=4.0.0->ipywidgets->cirq-ft==1.3.0->cirq) (0.7.0)\n",
            "Requirement already satisfied: wcwidth in /usr/local/lib/python3.10/dist-packages (from prompt-toolkit!=3.0.0,!=3.0.1,<3.1.0,>=2.0.0->ipython>=4.0.0->ipywidgets->cirq-ft==1.3.0->cirq) (0.2.13)\n",
            "Requirement already satisfied: pyasn1<0.6.0,>=0.4.6 in /usr/local/lib/python3.10/dist-packages (from pyasn1-modules>=0.2.1->google-auth<3.0.dev0,>=2.14.1->google-api-core[grpc]>=1.14.0->cirq-google==1.3.0->cirq) (0.5.1)\n",
            "Collecting ruamel.yaml.clib>=0.2.7 (from ruamel.yaml->rpcq<4.0.0,>=3.10.0->pyquil<4.0.0,>=3.2.0->cirq-rigetti==1.3.0->cirq)\n",
            "  Downloading ruamel.yaml.clib-0.2.8-cp310-cp310-manylinux_2_17_x86_64.manylinux2014_x86_64.manylinux_2_24_x86_64.whl (526 kB)\n",
            "\u001b[2K     \u001b[90m━━━━━━━━━━━━━━━━━━━━━━━━━━━━━━━━━━━━━━━━\u001b[0m \u001b[32m526.7/526.7 kB\u001b[0m \u001b[31m38.8 MB/s\u001b[0m eta \u001b[36m0:00:00\u001b[0m\n",
            "\u001b[?25hCollecting h11<0.15,>=0.13 (from httpcore<0.17.0,>=0.15.0->httpx<0.24.0,>=0.23.0->qcs-api-client<0.22.0,>=0.21.0->pyquil<4.0.0,>=3.2.0->cirq-rigetti==1.3.0->cirq)\n",
            "  Downloading h11-0.14.0-py3-none-any.whl (58 kB)\n",
            "\u001b[2K     \u001b[90m━━━━━━━━━━━━━━━━━━━━━━━━━━━━━━━━━━━━━━━━\u001b[0m \u001b[32m58.3/58.3 kB\u001b[0m \u001b[31m7.5 MB/s\u001b[0m eta \u001b[36m0:00:00\u001b[0m\n",
            "\u001b[?25hRequirement already satisfied: anyio<5.0,>=3.0 in /usr/local/lib/python3.10/dist-packages (from httpcore<0.17.0,>=0.15.0->httpx<0.24.0,>=0.23.0->qcs-api-client<0.22.0,>=0.21.0->pyquil<4.0.0,>=3.2.0->cirq-rigetti==1.3.0->cirq) (3.7.1)\n",
            "Requirement already satisfied: jupyter-server>=1.8 in /usr/local/lib/python3.10/dist-packages (from nbclassic>=0.4.7->notebook>=4.4.1->widgetsnbextension~=3.6.0->ipywidgets->cirq-ft==1.3.0->cirq) (1.24.0)\n",
            "Requirement already satisfied: notebook-shim>=0.2.3 in /usr/local/lib/python3.10/dist-packages (from nbclassic>=0.4.7->notebook>=4.4.1->widgetsnbextension~=3.6.0->ipywidgets->cirq-ft==1.3.0->cirq) (0.2.3)\n",
            "Requirement already satisfied: argon2-cffi-bindings in /usr/local/lib/python3.10/dist-packages (from argon2-cffi->notebook>=4.4.1->widgetsnbextension~=3.6.0->ipywidgets->cirq-ft==1.3.0->cirq) (21.2.0)\n",
            "Requirement already satisfied: exceptiongroup in /usr/local/lib/python3.10/dist-packages (from anyio<5.0,>=3.0->httpcore<0.17.0,>=0.15.0->httpx<0.24.0,>=0.23.0->qcs-api-client<0.22.0,>=0.21.0->pyquil<4.0.0,>=3.2.0->cirq-rigetti==1.3.0->cirq) (1.2.0)\n",
            "Requirement already satisfied: websocket-client in /usr/local/lib/python3.10/dist-packages (from jupyter-server>=1.8->nbclassic>=0.4.7->notebook>=4.4.1->widgetsnbextension~=3.6.0->ipywidgets->cirq-ft==1.3.0->cirq) (1.7.0)\n",
            "Requirement already satisfied: cffi>=1.0.1 in /usr/local/lib/python3.10/dist-packages (from argon2-cffi-bindings->argon2-cffi->notebook>=4.4.1->widgetsnbextension~=3.6.0->ipywidgets->cirq-ft==1.3.0->cirq) (1.16.0)\n",
            "Requirement already satisfied: pycparser in /usr/local/lib/python3.10/dist-packages (from cffi>=1.0.1->argon2-cffi-bindings->argon2-cffi->notebook>=4.4.1->widgetsnbextension~=3.6.0->ipywidgets->cirq-ft==1.3.0->cirq) (2.21)\n",
            "Building wheels for collected packages: lark, rpcq\n",
            "  Building wheel for lark (setup.py) ... \u001b[?25l\u001b[?25hdone\n",
            "  Created wheel for lark: filename=lark-0.11.3-py2.py3-none-any.whl size=99630 sha256=fe6590e81d956cd42bd7dc9acc72819c27475499d110ce0dda7fe70c39731be7\n",
            "  Stored in directory: /root/.cache/pip/wheels/7d/72/22/a2dbd112cf05c55adf2e1ead5fba8aa527b848f01cdd99687c\n",
            "  Building wheel for rpcq (setup.py) ... \u001b[?25l\u001b[?25hdone\n",
            "  Created wheel for rpcq: filename=rpcq-3.11.0-py3-none-any.whl size=45966 sha256=39c7b99a7000be217cbdf4b80e50035d9ae2b0716a3f18367c7bee2bec6a3f2d\n",
            "  Stored in directory: /root/.cache/pip/wheels/91/97/0a/b384d94155345284ec00712ab814cbfb5bc2b631080b4fa4c3\n",
            "Successfully built lark rpcq\n",
            "Installing collected packages: types-retry, rfc3986, rfc3339, lark, types-python-dateutil, types-deprecated, ruamel.yaml.clib, retrying, python-rapidjson, pyrsistent, PyJWT, jedi, iso8601, h11, duet, deprecated, attrs, ruamel.yaml, jsonschema, httpcore, rpcq, httpx, cirq-core, qcs-api-client, cirq-web, cirq-pasqal, cirq-ionq, cirq-aqt, pyquil, cirq-google, cirq-rigetti, cirq-ft, cirq\n",
            "  Attempting uninstall: PyJWT\n",
            "    Found existing installation: PyJWT 2.3.0\n",
            "    Uninstalling PyJWT-2.3.0:\n",
            "      Successfully uninstalled PyJWT-2.3.0\n",
            "  Attempting uninstall: attrs\n",
            "    Found existing installation: attrs 23.2.0\n",
            "    Uninstalling attrs-23.2.0:\n",
            "      Successfully uninstalled attrs-23.2.0\n",
            "  Attempting uninstall: jsonschema\n",
            "    Found existing installation: jsonschema 4.19.2\n",
            "    Uninstalling jsonschema-4.19.2:\n",
            "      Successfully uninstalled jsonschema-4.19.2\n",
            "\u001b[31mERROR: pip's dependency resolver does not currently take into account all the packages that are installed. This behaviour is the source of the following dependency conflicts.\n",
            "lida 0.0.10 requires fastapi, which is not installed.\n",
            "lida 0.0.10 requires kaleido, which is not installed.\n",
            "lida 0.0.10 requires python-multipart, which is not installed.\n",
            "lida 0.0.10 requires uvicorn, which is not installed.\n",
            "referencing 0.33.0 requires attrs>=22.2.0, but you have attrs 21.4.0 which is incompatible.\u001b[0m\u001b[31m\n",
            "\u001b[0mSuccessfully installed PyJWT-2.8.0 attrs-21.4.0 cirq-1.3.0 cirq-aqt-1.3.0 cirq-core-1.3.0 cirq-ft-1.3.0 cirq-google-1.3.0 cirq-ionq-1.3.0 cirq-pasqal-1.3.0 cirq-rigetti-1.3.0 cirq-web-1.3.0 deprecated-1.2.14 duet-0.2.9 h11-0.14.0 httpcore-0.16.3 httpx-0.23.3 iso8601-1.1.0 jedi-0.19.1 jsonschema-4.17.3 lark-0.11.3 pyquil-3.5.4 pyrsistent-0.20.0 python-rapidjson-1.14 qcs-api-client-0.21.6 retrying-1.3.4 rfc3339-6.2 rfc3986-1.5.0 rpcq-3.11.0 ruamel.yaml-0.18.5 ruamel.yaml.clib-0.2.8 types-deprecated-1.2.9.20240106 types-python-dateutil-2.8.19.20240106 types-retry-0.9.9.4\n"
          ]
        }
      ]
    },
    {
      "cell_type": "code",
      "source": [
        "pip install qiskit"
      ],
      "metadata": {
        "colab": {
          "base_uri": "https://localhost:8080/"
        },
        "id": "wkaizts_ZyHg",
        "outputId": "faaa6a4f-58b2-44c7-a6c5-bbf8f80b3aee"
      },
      "execution_count": 3,
      "outputs": [
        {
          "output_type": "stream",
          "name": "stdout",
          "text": [
            "Collecting qiskit\n",
            "  Downloading qiskit-0.46.0-py3-none-any.whl (9.6 kB)\n",
            "Collecting qiskit-terra==0.46.0 (from qiskit)\n",
            "  Downloading qiskit_terra-0.46.0-cp38-abi3-manylinux_2_17_x86_64.manylinux2014_x86_64.whl (6.3 MB)\n",
            "\u001b[2K     \u001b[90m━━━━━━━━━━━━━━━━━━━━━━━━━━━━━━━━━━━━━━━━\u001b[0m \u001b[32m6.3/6.3 MB\u001b[0m \u001b[31m15.5 MB/s\u001b[0m eta \u001b[36m0:00:00\u001b[0m\n",
            "\u001b[?25hCollecting rustworkx>=0.13.0 (from qiskit-terra==0.46.0->qiskit)\n",
            "  Downloading rustworkx-0.14.0-cp310-cp310-manylinux_2_17_x86_64.manylinux2014_x86_64.whl (2.2 MB)\n",
            "\u001b[2K     \u001b[90m━━━━━━━━━━━━━━━━━━━━━━━━━━━━━━━━━━━━━━━━\u001b[0m \u001b[32m2.2/2.2 MB\u001b[0m \u001b[31m28.9 MB/s\u001b[0m eta \u001b[36m0:00:00\u001b[0m\n",
            "\u001b[?25hRequirement already satisfied: numpy<2,>=1.17 in /usr/local/lib/python3.10/dist-packages (from qiskit-terra==0.46.0->qiskit) (1.23.5)\n",
            "Collecting ply>=3.10 (from qiskit-terra==0.46.0->qiskit)\n",
            "  Downloading ply-3.11-py2.py3-none-any.whl (49 kB)\n",
            "\u001b[2K     \u001b[90m━━━━━━━━━━━━━━━━━━━━━━━━━━━━━━━━━━━━━━━━\u001b[0m \u001b[32m49.6/49.6 kB\u001b[0m \u001b[31m5.6 MB/s\u001b[0m eta \u001b[36m0:00:00\u001b[0m\n",
            "\u001b[?25hRequirement already satisfied: psutil>=5 in /usr/local/lib/python3.10/dist-packages (from qiskit-terra==0.46.0->qiskit) (5.9.5)\n",
            "Requirement already satisfied: scipy>=1.5 in /usr/local/lib/python3.10/dist-packages (from qiskit-terra==0.46.0->qiskit) (1.11.4)\n",
            "Requirement already satisfied: sympy>=1.3 in /usr/local/lib/python3.10/dist-packages (from qiskit-terra==0.46.0->qiskit) (1.12)\n",
            "Collecting dill>=0.3 (from qiskit-terra==0.46.0->qiskit)\n",
            "  Downloading dill-0.3.8-py3-none-any.whl (116 kB)\n",
            "\u001b[2K     \u001b[90m━━━━━━━━━━━━━━━━━━━━━━━━━━━━━━━━━━━━━━━━\u001b[0m \u001b[32m116.3/116.3 kB\u001b[0m \u001b[31m12.1 MB/s\u001b[0m eta \u001b[36m0:00:00\u001b[0m\n",
            "\u001b[?25hRequirement already satisfied: python-dateutil>=2.8.0 in /usr/local/lib/python3.10/dist-packages (from qiskit-terra==0.46.0->qiskit) (2.8.2)\n",
            "Collecting stevedore>=3.0.0 (from qiskit-terra==0.46.0->qiskit)\n",
            "  Downloading stevedore-5.1.0-py3-none-any.whl (49 kB)\n",
            "\u001b[2K     \u001b[90m━━━━━━━━━━━━━━━━━━━━━━━━━━━━━━━━━━━━━━━━\u001b[0m \u001b[32m49.6/49.6 kB\u001b[0m \u001b[31m3.6 MB/s\u001b[0m eta \u001b[36m0:00:00\u001b[0m\n",
            "\u001b[?25hCollecting symengine>=0.11 (from qiskit-terra==0.46.0->qiskit)\n",
            "  Downloading symengine-0.11.0-cp310-cp310-manylinux_2_12_x86_64.manylinux2010_x86_64.whl (39.4 MB)\n",
            "\u001b[2K     \u001b[90m━━━━━━━━━━━━━━━━━━━━━━━━━━━━━━━━━━━━━━━━\u001b[0m \u001b[32m39.4/39.4 MB\u001b[0m \u001b[31m21.6 MB/s\u001b[0m eta \u001b[36m0:00:00\u001b[0m\n",
            "\u001b[?25hRequirement already satisfied: typing-extensions in /usr/local/lib/python3.10/dist-packages (from qiskit-terra==0.46.0->qiskit) (4.5.0)\n",
            "Requirement already satisfied: six>=1.5 in /usr/local/lib/python3.10/dist-packages (from python-dateutil>=2.8.0->qiskit-terra==0.46.0->qiskit) (1.16.0)\n",
            "Collecting pbr!=2.1.0,>=2.0.0 (from stevedore>=3.0.0->qiskit-terra==0.46.0->qiskit)\n",
            "  Downloading pbr-6.0.0-py2.py3-none-any.whl (107 kB)\n",
            "\u001b[2K     \u001b[90m━━━━━━━━━━━━━━━━━━━━━━━━━━━━━━━━━━━━━━━━\u001b[0m \u001b[32m107.5/107.5 kB\u001b[0m \u001b[31m12.8 MB/s\u001b[0m eta \u001b[36m0:00:00\u001b[0m\n",
            "\u001b[?25hRequirement already satisfied: mpmath>=0.19 in /usr/local/lib/python3.10/dist-packages (from sympy>=1.3->qiskit-terra==0.46.0->qiskit) (1.3.0)\n",
            "Installing collected packages: ply, symengine, rustworkx, pbr, dill, stevedore, qiskit-terra, qiskit\n",
            "Successfully installed dill-0.3.8 pbr-6.0.0 ply-3.11 qiskit-0.46.0 qiskit-terra-0.46.0 rustworkx-0.14.0 stevedore-5.1.0 symengine-0.11.0\n"
          ]
        }
      ]
    },
    {
      "cell_type": "code",
      "source": [
        "pip install sympy"
      ],
      "metadata": {
        "colab": {
          "base_uri": "https://localhost:8080/"
        },
        "id": "Kkw7QtETZ2py",
        "outputId": "4bf593fa-a647-4d65-9520-de655b2f5785"
      },
      "execution_count": 5,
      "outputs": [
        {
          "output_type": "stream",
          "name": "stdout",
          "text": [
            "Requirement already satisfied: sympy in /usr/local/lib/python3.10/dist-packages (1.12)\n",
            "Requirement already satisfied: mpmath>=0.19 in /usr/local/lib/python3.10/dist-packages (from sympy) (1.3.0)\n"
          ]
        }
      ]
    },
    {
      "cell_type": "code",
      "source": [
        "pip install qbraid"
      ],
      "metadata": {
        "colab": {
          "base_uri": "https://localhost:8080/"
        },
        "id": "hxNMvqY9aJZg",
        "outputId": "7c78ebd3-caa4-4ca0-d280-48c2f776e64e"
      },
      "execution_count": 6,
      "outputs": [
        {
          "output_type": "stream",
          "name": "stdout",
          "text": [
            "Collecting qbraid\n",
            "  Downloading qbraid-0.5.0-py3-none-any.whl (229 kB)\n",
            "\u001b[2K     \u001b[90m━━━━━━━━━━━━━━━━━━━━━━━━━━━━━━━━━━━━━━━━\u001b[0m \u001b[32m229.6/229.6 kB\u001b[0m \u001b[31m3.1 MB/s\u001b[0m eta \u001b[36m0:00:00\u001b[0m\n",
            "\u001b[?25hRequirement already satisfied: networkx<4.0,>=2.5 in /usr/local/lib/python3.10/dist-packages (from qbraid) (3.2.1)\n",
            "Requirement already satisfied: numpy<1.27,>=1.17 in /usr/local/lib/python3.10/dist-packages (from qbraid) (1.23.5)\n",
            "Collecting openqasm3[parser]<0.6.0,>=0.4.0 (from qbraid)\n",
            "  Downloading openqasm3-0.5.0-py3-none-any.whl (524 kB)\n",
            "\u001b[2K     \u001b[90m━━━━━━━━━━━━━━━━━━━━━━━━━━━━━━━━━━━━━━━━\u001b[0m \u001b[32m524.0/524.0 kB\u001b[0m \u001b[31m7.8 MB/s\u001b[0m eta \u001b[36m0:00:00\u001b[0m\n",
            "\u001b[?25hRequirement already satisfied: ply>=3.6 in /usr/local/lib/python3.10/dist-packages (from qbraid) (3.11)\n",
            "Requirement already satisfied: requests>=2.28.0 in /usr/local/lib/python3.10/dist-packages (from qbraid) (2.31.0)\n",
            "Collecting antlr4-python3-runtime<4.14,>=4.7 (from openqasm3[parser]<0.6.0,>=0.4.0->qbraid)\n",
            "  Downloading antlr4_python3_runtime-4.13.1-py3-none-any.whl (144 kB)\n",
            "\u001b[2K     \u001b[90m━━━━━━━━━━━━━━━━━━━━━━━━━━━━━━━━━━━━━━━━\u001b[0m \u001b[32m144.5/144.5 kB\u001b[0m \u001b[31m4.5 MB/s\u001b[0m eta \u001b[36m0:00:00\u001b[0m\n",
            "\u001b[?25hRequirement already satisfied: charset-normalizer<4,>=2 in /usr/local/lib/python3.10/dist-packages (from requests>=2.28.0->qbraid) (3.3.2)\n",
            "Requirement already satisfied: idna<4,>=2.5 in /usr/local/lib/python3.10/dist-packages (from requests>=2.28.0->qbraid) (3.6)\n",
            "Requirement already satisfied: urllib3<3,>=1.21.1 in /usr/local/lib/python3.10/dist-packages (from requests>=2.28.0->qbraid) (2.0.7)\n",
            "Requirement already satisfied: certifi>=2017.4.17 in /usr/local/lib/python3.10/dist-packages (from requests>=2.28.0->qbraid) (2023.11.17)\n",
            "Installing collected packages: openqasm3, antlr4-python3-runtime, qbraid\n",
            "Successfully installed antlr4-python3-runtime-4.13.1 openqasm3-0.5.0 qbraid-0.5.0\n"
          ]
        }
      ]
    },
    {
      "cell_type": "code",
      "source": [
        "from qbraid.api import QbraidSession\n",
        "\n",
        "session = QbraidSession(api_key='7m4dptrqcig')\n",
        "session.save_config()"
      ],
      "metadata": {
        "id": "hLAo9WaZaiWu"
      },
      "execution_count": 7,
      "outputs": []
    },
    {
      "cell_type": "code",
      "execution_count": 8,
      "metadata": {
        "tags": [],
        "id": "eM_6WQpmZo5Y"
      },
      "outputs": [],
      "source": [
        "import cirq\n",
        "import numpy as np\n",
        "import sympy\n",
        "from qiskit import *\n",
        "from qiskit import QuantumCircuit"
      ]
    },
    {
      "cell_type": "code",
      "execution_count": 11,
      "metadata": {
        "tags": [],
        "id": "h4ck_6A3Zo5Z"
      },
      "outputs": [],
      "source": [
        "from typing import Any, Dict, Optional\n",
        "\n",
        "from qbraid.api import QbraidSession\n",
        "from qbraid.exceptions import QbraidError\n",
        "from qbraid.transpiler import convert_to_package\n",
        "\n",
        "\n",
        "class Server:\n",
        "    \"\"\"Server class containing the attack() and probe() methods for IonQ challenge.\"\"\"\n",
        "\n",
        "    def __init__(self, qbraid_session: Optional[QbraidSession] = None):\n",
        "        \"\"\"Initialize the server class with a QbraidSession object.\"\"\"\n",
        "        self._session = qbraid_session or QbraidSession()\n",
        "\n",
        "    @property\n",
        "    def session(self) -> QbraidSession:\n",
        "        \"\"\"Return the QbraidSession object.\"\"\"\n",
        "        return self._session\n",
        "\n",
        "    @staticmethod\n",
        "    def _verify_qasm_program(qasm: str) -> None:\n",
        "        \"\"\"Verify that the qasm program is valid.\"\"\"\n",
        "        try:\n",
        "            _ = convert_to_package(qasm, \"cirq\")\n",
        "        except QbraidError as err:\n",
        "            raise ValueError(\"Invalid OpenQASM program.\") from err\n",
        "\n",
        "    def _post_request(\n",
        "        self, action: str, vault_index: int, circuit: str\n",
        "    ) -> Dict[str, Any]:\n",
        "        \"\"\"Send a request to a specified endpoint with given parameters.\"\"\"\n",
        "        self._verify_qasm_program(circuit)\n",
        "        query = {\"vaultIndex\": vault_index, \"openQasm\": circuit}\n",
        "        resp = self.session.post(f\"/iquhack/ionq/{action}\", json=query)\n",
        "        return resp.json()\n",
        "\n",
        "    def attack(self, vault_index: int, circuit: str) -> Dict[str, float]:\n",
        "        \"\"\"Returns score.\"\"\"\n",
        "        resp_data = self._post_request(\"attack\", vault_index, circuit)\n",
        "        score_keys = {\"rawScore\", \"costFactor\", \"score\"}\n",
        "        score_dict = {k: resp_data[k] for k in score_keys if k in resp_data}\n",
        "        return score_dict\n",
        "\n",
        "    def probe(self, vault_index: int, circuit: str) -> Dict[str, float]:\n",
        "        \"\"\"Returns histogram data with keys in the big-endian decimal\n",
        "        representation of measurement bit strings.\"\"\"\n",
        "        resp_data = self._post_request(\"probe\", vault_index, circuit)\n",
        "        return resp_data[\"histogram\"]\n",
        "\n",
        "    def state(self) -> Dict[str, Any]:\n",
        "        \"\"\"Returns user challenge metadata.\"\"\"\n",
        "        return self.session.get(\"/iquhack/ionq/state\").json()\n",
        "\n",
        "    def register(self, team_name: str) -> str:\n",
        "        \"\"\"Initialize session. Only needs to be done once.\"\"\"\n",
        "        resp = self.session.post(\n",
        "            f\"/iquhack/ionq/register\", json={\"teamName\": team_name}\n",
        "        ).json()\n",
        "        message = resp[\"message\"]\n",
        "        for ln in message.split(\"\\n\"):\n",
        "            print(ln.strip())\n",
        "\n",
        "server = Server()"
      ]
    },
    {
      "cell_type": "markdown",
      "metadata": {
        "id": "w7bVbffGZo5b"
      },
      "source": [
        "## Test probe using vault 0"
      ]
    },
    {
      "cell_type": "code",
      "execution_count": 12,
      "metadata": {
        "colab": {
          "base_uri": "https://localhost:8080/"
        },
        "id": "2U3Zqo54Zo5c",
        "outputId": "f5273a6c-2df1-4c50-f685-c65b2e5327eb"
      },
      "outputs": [
        {
          "output_type": "stream",
          "name": "stdout",
          "text": [
            "// Generated from Cirq v1.3.0\n",
            "\n",
            "OPENQASM 2.0;\n",
            "include \"qelib1.inc\";\n",
            "\n",
            "\n",
            "// Qubits: [q(0), q(1), q(2)]\n",
            "qreg q[3];\n",
            "\n",
            "\n",
            "h q[0];\n",
            "h q[1];\n",
            "h q[2];\n",
            "\n"
          ]
        }
      ],
      "source": [
        "cq = cirq.Circuit()\n",
        "cq.append(cirq.H.on(cirq.LineQubit(0)))\n",
        "cq.append(cirq.H.on(cirq.LineQubit(1)))\n",
        "cq.append(cirq.H.on(cirq.LineQubit(2)))\n",
        "test_probe = cirq.qasm(cq)\n",
        "print(test_probe)"
      ]
    },
    {
      "cell_type": "code",
      "execution_count": 14,
      "metadata": {
        "colab": {
          "base_uri": "https://localhost:8080/"
        },
        "id": "HgozlkAlZo5c",
        "outputId": "3b04273d-5c55-4730-e341-f56daed386a4"
      },
      "outputs": [
        {
          "output_type": "execute_result",
          "data": {
            "text/plain": [
              "{'0': 0.25, '3': 0.22, '5': 0.32, '6': 0.21}"
            ]
          },
          "metadata": {},
          "execution_count": 14
        }
      ],
      "source": [
        "#!!!!!!!!!!!!!!!!!!!!!!!!!!!!!!!!!!!!!!!!!!!!!!!!!!!!!!!!!!!!!!!!!!!!!!\n",
        "#!!!!!!!!!!!Be careful about the Endian of returned histogram!!!!!!!!!!\n",
        "#!!!!!!!!!!!!!!!!!!!!!!!!!!!!!!!!!!!!!!!!!!!!!!!!!!!!!!!!!!!!!!!!!!!!!!\n",
        "server.probe(vault_index=0, circuit=test_probe)"
      ]
    },
    {
      "cell_type": "markdown",
      "metadata": {
        "id": "tHGFQA6JZo5c"
      },
      "source": [
        "## Test attack using vault 0"
      ]
    },
    {
      "cell_type": "code",
      "execution_count": 15,
      "metadata": {
        "tags": [],
        "colab": {
          "base_uri": "https://localhost:8080/"
        },
        "id": "wD_a5w-LZo5c",
        "outputId": "4719ad77-c938-47d1-dc50-011c0aac9312"
      },
      "outputs": [
        {
          "output_type": "stream",
          "name": "stdout",
          "text": [
            "// Generated from Cirq v1.3.0\n",
            "\n",
            "OPENQASM 2.0;\n",
            "include \"qelib1.inc\";\n",
            "\n",
            "\n",
            "// Qubits: [q(0), q(1), q(2)]\n",
            "qreg q[3];\n",
            "\n",
            "\n",
            "cx q[0],q[2];\n",
            "cx q[0],q[1];\n",
            "h q[0];\n",
            "\n"
          ]
        }
      ],
      "source": [
        "cq = cirq.Circuit()\n",
        "cq.append(cirq.CNOT.on(cirq.LineQubit(0), cirq.LineQubit(2)))\n",
        "cq.append(cirq.CNOT.on(cirq.LineQubit(0), cirq.LineQubit(1)))\n",
        "cq.append(cirq.H.on(cirq.LineQubit(0)))\n",
        "test_attack = cirq.qasm(cq)\n",
        "print(test_attack)"
      ]
    },
    {
      "cell_type": "code",
      "execution_count": 16,
      "metadata": {
        "tags": [],
        "colab": {
          "base_uri": "https://localhost:8080/"
        },
        "id": "RaKhmOW8Zo5d",
        "outputId": "4266f15a-9c71-4fd1-f440-130a370ad2d8"
      },
      "outputs": [
        {
          "output_type": "execute_result",
          "data": {
            "text/plain": [
              "{'costFactor': 0.8, 'score': 0.8, 'rawScore': 1}"
            ]
          },
          "metadata": {},
          "execution_count": 16
        }
      ],
      "source": [
        "server.attack(vault_index=0, circuit=test_attack)"
      ]
    },
    {
      "cell_type": "markdown",
      "metadata": {
        "id": "LLSd9sL9Zo5d"
      },
      "source": [
        "## Check state"
      ]
    },
    {
      "cell_type": "markdown",
      "metadata": {
        "id": "zothvBJtZo5e"
      },
      "source": [
        "Check state for your team's current score(s), and number of probes/attacks remaining"
      ]
    },
    {
      "cell_type": "code",
      "execution_count": 17,
      "metadata": {
        "tags": [],
        "colab": {
          "base_uri": "https://localhost:8080/"
        },
        "id": "PNeI_7RZZo5f",
        "outputId": "7ab2dc94-544c-4b64-965a-ca6a16330e9a"
      },
      "outputs": [
        {
          "output_type": "execute_result",
          "data": {
            "text/plain": [
              "{'team': 'QuanTeam',\n",
              " 'totalAvgScore': 0.006370937712059497,\n",
              " 'topVaultScores': [0.8,\n",
              "  0.0014516129032258066,\n",
              "  0.023241758241758243,\n",
              "  0,\n",
              "  0.0004962406015037594,\n",
              "  0.03409090909090909,\n",
              "  0,\n",
              "  0,\n",
              "  0,\n",
              "  0.016,\n",
              "  0.0011707317073170733,\n",
              "  0,\n",
              "  0],\n",
              " 'probesRemaining': [39, 19, 19, 16, 17, 17, 20, 20, 20, 19, 19, 20, 20],\n",
              " 'attacksRemaining': [37, 19, 19, 15, 15, 18, 20, 20, 20, 19, 19, 20, 20],\n",
              " 'reminder': 'Vault index 0 is a test vault, and does not count towards your final score.'}"
            ]
          },
          "metadata": {},
          "execution_count": 17
        }
      ],
      "source": [
        "server.state()"
      ]
    }
  ],
  "metadata": {
    "kernelspec": {
      "display_name": "Python 3 (ipykernel)",
      "language": "python",
      "name": "python3"
    },
    "language_info": {
      "codemirror_mode": {
        "name": "ipython",
        "version": 3
      },
      "file_extension": ".py",
      "mimetype": "text/x-python",
      "name": "python",
      "nbconvert_exporter": "python",
      "pygments_lexer": "ipython3",
      "version": "3.9.0"
    },
    "vscode": {
      "interpreter": {
        "hash": "159d45c1b56606e60b489f81d4ff9591881a6e95352a42f62c421b24d39eb409"
      }
    },
    "colab": {
      "provenance": []
    }
  },
  "nbformat": 4,
  "nbformat_minor": 0
}