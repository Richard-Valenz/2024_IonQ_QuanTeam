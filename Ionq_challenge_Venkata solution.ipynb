{
 "cells": [
  {
   "cell_type": "markdown",
   "metadata": {},
   "source": [
    "# Reconstruction exmaple"
   ]
  },
  {
   "cell_type": "markdown",
   "metadata": {},
   "source": [
    "## Import the relevant libraries"
   ]
  },
  {
   "cell_type": "code",
   "execution_count": 1,
   "metadata": {
    "tags": []
   },
   "outputs": [],
   "source": [
    "import cirq\n",
    "import numpy as np\n",
    "import sympy\n",
    "from qiskit import *\n",
    "from qiskit import QuantumCircuit\n",
    "import qbraid"
   ]
  },
  {
   "cell_type": "code",
   "execution_count": 2,
   "metadata": {
    "tags": []
   },
   "outputs": [],
   "source": [
    "\n",
    "import server\n",
    "server = server.Server()"
   ]
  },
  {
   "cell_type": "markdown",
   "metadata": {},
   "source": [
    "## Register team"
   ]
  },
  {
   "cell_type": "code",
   "execution_count": 4,
   "metadata": {
    "tags": []
   },
   "outputs": [],
   "source": [
    "#server.register(\"QuanTeam\")"
   ]
  },
  {
   "cell_type": "markdown",
   "metadata": {},
   "source": [
    "## Test probe using vault 0"
   ]
  },
  {
   "cell_type": "code",
   "execution_count": 484,
   "metadata": {
    "tags": []
   },
   "outputs": [
    {
     "name": "stdout",
     "output_type": "stream",
     "text": [
      "// Generated from Cirq v1.3.0\n",
      "\n",
      "OPENQASM 2.0;\n",
      "include \"qelib1.inc\";\n",
      "\n",
      "\n",
      "// Qubits: [q(0), q(1), q(2), q(3), q(4)]\n",
      "qreg q[5];\n",
      "\n",
      "\n",
      "h q[0];\n",
      "h q[1];\n",
      "h q[2];\n",
      "h q[3];\n",
      "h q[4];\n",
      "\n"
     ]
    }
   ],
   "source": [
    "num_qubits = 5\n",
    "qubits = [cirq.LineQubit(i) for i in range(num_qubits)]\n",
    "\n",
    "cq_probe= cirq.Circuit()\n",
    "for qubit in qubits:\n",
    "    cq_probe.append(cirq.H(qubit))\n",
    "test_probe = cirq.qasm(cq_probe)\n",
    "print(test_probe)"
   ]
  },
  {
   "cell_type": "code",
   "execution_count": 485,
   "metadata": {
    "tags": []
   },
   "outputs": [],
   "source": [
    "#!!!!!!!!!!!!!!!!!!!!!!!!!!!!!!!!!!!!!!!!!!!!!!!!!!!!!!!!!!!!!!!!!!!!!!\n",
    "#!!!!!!!!!!!Be careful about the Endian of returned histogram!!!!!!!!!!\n",
    "#!!!!!!!!!!!!!!!!!!!!!!!!!!!!!!!!!!!!!!!!!!!!!!!!!!!!!!!!!!!!!!!!!!!!!!\n",
    "#server.probe(vault_index=6, circuit=test_probe)"
   ]
  },
  {
   "cell_type": "markdown",
   "metadata": {},
   "source": [
    "## Test attack using vault 0"
   ]
  },
  {
   "cell_type": "code",
   "execution_count": 486,
   "metadata": {
    "tags": []
   },
   "outputs": [
    {
     "name": "stdout",
     "output_type": "stream",
     "text": [
      "// Generated from Cirq v1.3.0\n",
      "\n",
      "OPENQASM 2.0;\n",
      "include \"qelib1.inc\";\n",
      "\n",
      "\n",
      "// Qubits: [q(0), q(1), q(2)]\n",
      "qreg q[3];\n",
      "\n",
      "\n",
      "cx q[0],q[2];\n",
      "cx q[0],q[1];\n",
      "h q[0];\n",
      "\n"
     ]
    }
   ],
   "source": [
    "cq = cirq.Circuit()\n",
    "cq.append(cirq.CNOT.on(cirq.LineQubit(0), cirq.LineQubit(2)))\n",
    "cq.append(cirq.CNOT.on(cirq.LineQubit(0), cirq.LineQubit(1)))\n",
    "cq.append(cirq.H.on(cirq.LineQubit(0)))\n",
    "test_attack = cirq.qasm(cq)\n",
    "print(test_attack)"
   ]
  },
  {
   "cell_type": "code",
   "execution_count": 487,
   "metadata": {
    "tags": []
   },
   "outputs": [
    {
     "name": "stdout",
     "output_type": "stream",
     "text": [
      "0: ───Rx(0.159π)───@───Rx(0.159π)──────────────────────────────────────────\n",
      "                   │\n",
      "1: ───Rx(0.159π)───@───@────────────Rx(0.159π)─────────────────────────────\n",
      "                       │\n",
      "2: ───Rx(0.159π)───────@────────────@────────────Rx(0.159π)────────────────\n",
      "                                    │\n",
      "3: ───Rx(0.159π)────────────────────@────────────@────────────Rx(0.159π)───\n",
      "                                                 │\n",
      "4: ───Rx(0.159π)─────────────────────────────────@────────────Rx(0.159π)───\n",
      "// Generated from Cirq v1.3.0\n",
      "\n",
      "OPENQASM 2.0;\n",
      "include \"qelib1.inc\";\n",
      "\n",
      "\n",
      "// Qubits: [q(0), q(1), q(2), q(3), q(4)]\n",
      "qreg q[5];\n",
      "\n",
      "\n",
      "rx(pi*0.1591549431) q[0];\n",
      "rx(pi*0.1591549431) q[1];\n",
      "rx(pi*0.1591549431) q[2];\n",
      "rx(pi*0.1591549431) q[3];\n",
      "rx(pi*0.1591549431) q[4];\n",
      "cz q[0],q[1];\n",
      "cz q[1],q[2];\n",
      "rx(pi*0.1591549431) q[0];\n",
      "cz q[2],q[3];\n",
      "rx(pi*0.1591549431) q[1];\n",
      "cz q[3],q[4];\n",
      "rx(pi*0.1591549431) q[2];\n",
      "rx(pi*0.1591549431) q[3];\n",
      "rx(pi*0.1591549431) q[4];\n",
      "\n"
     ]
    }
   ],
   "source": [
    "###Parametric Quantum Circuit\n",
    "import cirq\n",
    "import sympy\n",
    "\n",
    "num_qubits_1= num_qubits\n",
    "qubits = [cirq.LineQubit(i) for i in range(num_qubits_1)]\n",
    "cq1 = cirq.Circuit()\n",
    "\n",
    "\n",
    "parameters = [sympy.symbols(f'theta_{i}_{j}') for i in range(2) for j in range(num_qubits_1)]  # 2 layers * 4 qubits\n",
    "param_resolver = {str(param): 0.5 for param in parameters}\n",
    "\n",
    "# First layer of single-qubit rotations\n",
    "for i, qubit in enumerate(qubits):\n",
    "    cq1.append(cirq.rx(parameters[i]).on(qubit))\n",
    "\n",
    "# First layer of two-qubit entangling gates\n",
    "for i in range(num_qubits_1-1): \n",
    "    cq1.append(cirq.CZ(qubits[i], qubits[i+1]))\n",
    "for i, qubit in enumerate(qubits):\n",
    "    cq1.append(cirq.rx(parameters[i+num_qubits_1]).on(qubit))\n",
    "\n",
    "resolved_circuit = cirq.resolve_parameters(cq1, param_resolver)\n",
    "\n",
    "print(resolved_circuit)\n",
    "parametric_circuit_attack=cirq.qasm(resolved_circuit)\n",
    "print(parametric_circuit_attack)\n"
   ]
  },
  {
   "cell_type": "code",
   "execution_count": 488,
   "metadata": {
    "tags": []
   },
   "outputs": [
    {
     "name": "stdout",
     "output_type": "stream",
     "text": [
      "// Generated from Cirq v1.3.0\n",
      "\n",
      "OPENQASM 2.0;\n",
      "include \"qelib1.inc\";\n",
      "\n",
      "\n",
      "// Qubits: [q(0), q(1), q(2), q(3), q(4)]\n",
      "qreg q[5];\n",
      "\n",
      "\n",
      "h q[0];\n",
      "h q[1];\n",
      "h q[2];\n",
      "h q[3];\n",
      "h q[4];\n",
      "cx q[0],q[1];\n",
      "cx q[1],q[2];\n",
      "cx q[2],q[3];\n",
      "cx q[3],q[4];\n",
      "\n"
     ]
    }
   ],
   "source": [
    "###Matrix Product State\n",
    "import cirq\n",
    "\n",
    "num_qubits_2= num_qubits\n",
    "qubits = [cirq.LineQubit(i) for i in range(num_qubits_2)]\n",
    "\n",
    "cq2 = cirq.Circuit()\n",
    "for qubit in qubits:\n",
    "    cq2.append(cirq.H(qubit))\n",
    "    \n",
    "for i in range(num_qubits_2-1): \n",
    "    cq2.append(cirq.CNOT(qubits[i], qubits[i+1]))\n",
    "    \n",
    "matrix_product_attack=cirq.qasm(cq2)\n",
    "print(matrix_product_attack)"
   ]
  },
  {
   "cell_type": "code",
   "execution_count": 489,
   "metadata": {
    "tags": []
   },
   "outputs": [
    {
     "name": "stdout",
     "output_type": "stream",
     "text": [
      "// Generated from Cirq v1.3.0\n",
      "\n",
      "OPENQASM 2.0;\n",
      "include \"qelib1.inc\";\n",
      "\n",
      "\n",
      "// Qubits: [q(0), q(1), q(2), q(3), q(4)]\n",
      "qreg q[5];\n",
      "\n",
      "\n",
      "h q[0];\n",
      "h q[1];\n",
      "h q[2];\n",
      "h q[3];\n",
      "h q[4];\n",
      "cz q[0],q[1];\n",
      "cz q[1],q[2];\n",
      "cz q[2],q[3];\n",
      "cz q[3],q[4];\n",
      "\n"
     ]
    }
   ],
   "source": [
    "##GRAPH state method circuit\n",
    "num_qubits_3= num_qubits\n",
    "qubits = [cirq.LineQubit(i) for i in range(num_qubits_3)]\n",
    "\n",
    "cq3 = cirq.Circuit()\n",
    "for qubit in qubits:\n",
    "    cq3.append(cirq.H(qubit))\n",
    "\n",
    "for i in range(num_qubits_3- 1):\n",
    "    cq3.append(cirq.CZ(qubits[i], qubits[i+1]))\n",
    "    \n",
    "graph_test_attack=cirq.qasm(cq3)\n",
    "print(graph_test_attack)"
   ]
  },
  {
   "cell_type": "code",
   "execution_count": 490,
   "metadata": {
    "tags": []
   },
   "outputs": [
    {
     "data": {
      "text/plain": [
       "{'1': 0.005,\n",
       " '3': 0.04,\n",
       " '5': 0.015,\n",
       " '6': 0.09,\n",
       " '7': 0.01,\n",
       " '8': 0.015,\n",
       " '9': 0.005,\n",
       " '10': 0.04,\n",
       " '11': 0.01,\n",
       " '12': 0.005,\n",
       " '13': 0.005,\n",
       " '14': 0.005,\n",
       " '15': 0.015,\n",
       " '16': 0.015,\n",
       " '17': 0.005,\n",
       " '18': 0.04,\n",
       " '19': 0.01,\n",
       " '22': 0.03,\n",
       " '24': 0.005,\n",
       " '25': 0.015,\n",
       " '26': 0.01,\n",
       " '27': 0.02,\n",
       " '28': 0.025,\n",
       " '30': 0.005,\n",
       " '31': 0.01,\n",
       " '32': 0.02,\n",
       " '33': 0.005,\n",
       " '34': 0.025,\n",
       " '35': 0.09,\n",
       " '38': 0.15,\n",
       " '39': 0.04,\n",
       " '40': 0.015,\n",
       " '41': 0.025,\n",
       " '42': 0.045,\n",
       " '43': 0.02,\n",
       " '44': 0.025,\n",
       " '46': 0.02,\n",
       " '49': 0.005,\n",
       " '52': 0.01,\n",
       " '53': 0.005,\n",
       " '55': 0.005,\n",
       " '58': 0.015,\n",
       " '60': 0.015,\n",
       " '61': 0.005,\n",
       " '62': 0.005,\n",
       " '63': 0.005}"
      ]
     },
     "execution_count": 490,
     "metadata": {},
     "output_type": "execute_result"
    }
   ],
   "source": [
    "server.probe(vault_index=2, circuit=test_probe)"
   ]
  },
  {
   "cell_type": "code",
   "execution_count": 491,
   "metadata": {
    "tags": []
   },
   "outputs": [
    {
     "data": {
      "text/plain": [
       "{'score': 0.06456521739130436,\n",
       " 'rawScore': 0.066,\n",
       " 'costFactor': 0.9782608695652174}"
      ]
     },
     "execution_count": 491,
     "metadata": {},
     "output_type": "execute_result"
    }
   ],
   "source": [
    "#circuits available:\n",
    "#1. matrix_product_attack\n",
    "#2. parametric_circuit_attack\n",
    "#3. graph_test_attack\n",
    "server.attack(vault_index=2, circuit=parametric_circuit_attack)"
   ]
  },
  {
   "cell_type": "markdown",
   "metadata": {},
   "source": [
    "## Check state"
   ]
  },
  {
   "cell_type": "markdown",
   "metadata": {},
   "source": [
    "Check state for your team's current score(s), and number of probes/attacks remaining"
   ]
  },
  {
   "cell_type": "code",
   "execution_count": 492,
   "metadata": {
    "tags": []
   },
   "outputs": [
    {
     "data": {
      "text/plain": [
       "{'team': 'QuanTeam',\n",
       " 'totalAvgScore': 0.10379957610047068,\n",
       " 'topVaultScores': [0.8,\n",
       "  0.00890625,\n",
       "  0.06456521739130436,\n",
       "  0,\n",
       "  0.0004962406015037594,\n",
       "  0.46061538461538465,\n",
       "  0.035555555555555556,\n",
       "  0.006363636363636364,\n",
       "  0.001423728813559322,\n",
       "  0.016,\n",
       "  0.19442424242424244,\n",
       "  0.2241322314049587,\n",
       "  0.23311242603550295],\n",
       " 'probesRemaining': [39, 10, 11, 0, 17, 13, 17, 14, 16, 14, 15, 12, 12],\n",
       " 'attacksRemaining': [36, 6, 5, 7, 14, 9, 14, 8, 12, 10, 11, 6, 4],\n",
       " 'reminder': 'Vault index 0 is a test vault, and does not count towards your final score.'}"
      ]
     },
     "execution_count": 492,
     "metadata": {},
     "output_type": "execute_result"
    }
   ],
   "source": [
    "server.state()"
   ]
  },
  {
   "cell_type": "code",
   "execution_count": null,
   "metadata": {},
   "outputs": [],
   "source": []
  }
 ],
 "metadata": {
  "kernelspec": {
   "display_name": "Python 3 [Default]",
   "language": "python",
   "name": "python3"
  },
  "language_info": {
   "codemirror_mode": {
    "name": "ipython",
    "version": 3
   },
   "file_extension": ".py",
   "mimetype": "text/x-python",
   "name": "python",
   "nbconvert_exporter": "python",
   "pygments_lexer": "ipython3",
   "version": "3.11.7"
  },
  "vscode": {
   "interpreter": {
    "hash": "159d45c1b56606e60b489f81d4ff9591881a6e95352a42f62c421b24d39eb409"
   }
  }
 },
 "nbformat": 4,
 "nbformat_minor": 4
}
